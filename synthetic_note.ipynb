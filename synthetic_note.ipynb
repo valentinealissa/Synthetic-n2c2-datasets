{
 "cells": [
  {
   "cell_type": "code",
   "metadata": {
    "collapsed": true,
    "pycharm": {
     "name": "#%%\n"
    }
   },
   "source": [
    "from create_vocab import create_vocab_set\n",
    "from create_sentences import create_s_dictionary\n",
    "\n",
    "file_name = '/Users/alissavalentine/Charney rotation/project code/input/train_sentences.txt'\n",
    "train_file = open(file_name)\n",
    "sentences = create_s_dictionary(train_file)\n",
    "train_file = open(file_name)\n",
    "vocab = create_vocab_set(train_file)"
   ],
   "execution_count": 37,
   "outputs": []
  },
  {
   "cell_type": "code",
   "execution_count": null,
   "outputs": [],
   "source": [
    "from create_weights import create_weights\n",
    "weights = create_weights(vocab, sentences)"
   ],
   "metadata": {
    "collapsed": false,
    "pycharm": {
     "name": "#%%\n"
    }
   }
  },
  {
   "cell_type": "code",
   "execution_count": 78,
   "outputs": [],
   "source": [
    "file_name = '/Users/alissavalentine/Charney rotation/project code/input/train_sentences_copy.txt'\n",
    "sample_note = []\n",
    "with open(file_name) as file:\n",
    "    for line in file:\n",
    "        line = str(line).rstrip('\\n')\n",
    "        sample_note.append(line)"
   ],
   "metadata": {
    "collapsed": false,
    "pycharm": {
     "name": "#%%\n"
    }
   }
  },
  {
   "cell_type": "code",
   "execution_count": 76,
   "outputs": [],
   "source": [
    "import random\n",
    "import numpy\n",
    "\n",
    "seed1 = numpy.random.RandomState(40)\n",
    "seed2 = random.Random(40)\n",
    "\n",
    "\n",
    "def replace_words(note, percentage, vocab, weight):\n",
    "    metadata = [\"Note #, Word #, Sentence #, Old Word, New Word\"]\n",
    "    new_note = []\n",
    "    sentence_num = 0\n",
    "\n",
    "    ww = []\n",
    "    for value in weight.values():\n",
    "        ww.append(value)\n",
    "\n",
    "    for line in note:\n",
    "        line = line.rstrip('\\n').rsplit(\",\")\n",
    "        words = line[2].rsplit(\" \")\n",
    "        patient_id = line[0]\n",
    "        challenge = line[1]\n",
    "\n",
    "        indexed_words = []\n",
    "        for word in words:\n",
    "            index = words.index(word)\n",
    "            indexed_word = word + \"_\" + str(index)\n",
    "            indexed_words.append(indexed_word)\n",
    "\n",
    "        num_2replace = round((percentage * 0.01) * len(words))\n",
    "\n",
    "        words_2replace = seed1.choice(indexed_words, size=num_2replace, replace=False)\n",
    "        #print(words_2replace)\n",
    "        replacement_words = seed2.choices(vocab, k=num_2replace, weights=ww)\n",
    "        #print(replacement_words)\n",
    "\n",
    "        for count, value in enumerate(words_2replace):\n",
    "            old_word = value.rsplit(\"_\")[0]\n",
    "            index = int(value.rsplit(\"_\")[1])\n",
    "            new_word = replacement_words[count]\n",
    "            #print(new_word)\n",
    "            words[index] = new_word\n",
    "            #print(words)\n",
    "            word_metadata = [patient_id, index, sentence_num, old_word, new_word]\n",
    "            metadata.append(word_metadata)\n",
    "\n",
    "        words = \" \".join(words)\n",
    "        new_line = str(patient_id + ',' + challenge + ',' + words)\n",
    "        new_note.append(new_line)\n",
    "\n",
    "        sentence_num += 1\n",
    "\n",
    "    return new_note, metadata"
   ],
   "metadata": {
    "collapsed": false,
    "pycharm": {
     "name": "#%%\n"
    }
   }
  },
  {
   "cell_type": "code",
   "execution_count": null,
   "outputs": [],
   "source": [
    "new_note, metadata = replace_words(sample_note, 50, list(vocab), weights)\n",
    "print(new_note)\n",
    "print(metadata)"
   ],
   "metadata": {
    "collapsed": false,
    "pycharm": {
     "name": "#%%\n",
     "is_executing": true
    }
   }
  },
  {
   "cell_type": "code",
   "execution_count": null,
   "outputs": [],
   "source": [],
   "metadata": {
    "collapsed": false,
    "pycharm": {
     "name": "#%%\n"
    }
   }
  },
  {
   "cell_type": "code",
   "execution_count": null,
   "outputs": [],
   "source": [],
   "metadata": {
    "collapsed": false,
    "pycharm": {
     "name": "#%%\n"
    }
   }
  }
 ],
 "metadata": {
  "kernelspec": {
   "display_name": "Python 3",
   "language": "python",
   "name": "python3"
  },
  "language_info": {
   "codemirror_mode": {
    "name": "ipython",
    "version": 2
   },
   "file_extension": ".py",
   "mimetype": "text/x-python",
   "name": "python",
   "nbconvert_exporter": "python",
   "pygments_lexer": "ipython2",
   "version": "2.7.6"
  }
 },
 "nbformat": 4,
 "nbformat_minor": 0
}