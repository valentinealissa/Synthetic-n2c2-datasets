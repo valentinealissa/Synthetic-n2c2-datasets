{
 "cells": [
  {
   "cell_type": "code",
   "metadata": {
    "collapsed": true,
    "pycharm": {
     "name": "#%%\n"
    }
   },
   "source": [
    "from create_vocab import create_vocab_set\n",
    "from create_sentences import create_s_dictionary\n",
    "\n",
    "file_name = '/Users/alissavalentine/Charney rotation/project code/input/train_sentences.txt'\n",
    "train_file = open(file_name)\n",
    "sentences = create_s_dictionary(train_file)\n",
    "train_file = open(file_name)\n",
    "vocab = create_vocab_set(train_file)"
   ],
   "execution_count": 37,
   "outputs": []
  },
  {
   "cell_type": "code",
   "execution_count": null,
   "outputs": [],
   "source": [
    "from create_weights import create_weights\n",
    "weights = create_weights(vocab, sentences)"
   ],
   "metadata": {
    "collapsed": false,
    "pycharm": {
     "name": "#%%\n"
    }
   }
  },
  {
   "cell_type": "code",
   "execution_count": null,
   "outputs": [],
   "source": [
    "file_name = '/Users/alissavalentine/Charney rotation/project code/input/train_sentences_copy.txt'\n",
    "sample_note = []\n",
    "with open(file_name) as file:\n",
    "    for line in file:\n",
    "        line = str(line).rstrip('\\n')\n",
    "        sample_note.append(line)\n",
    "\n",
    "print(sample_note)"
   ],
   "metadata": {
    "collapsed": false,
    "pycharm": {
     "name": "#%%\n",
     "is_executing": true
    }
   }
  },
  {
   "cell_type": "code",
   "execution_count": 248,
   "outputs": [],
   "source": [
    "import random\n",
    "import numpy\n",
    "\n",
    "seed1 = numpy.random.RandomState(40)\n",
    "seed2 = random.Random(40)\n",
    "\n",
    "def replace_words(note, percentage, vocab, weight):\n",
    "    metadata = [] # \"Note #, Word #, Sentence #, Old Word, New Word\"\n",
    "    new_note = []\n",
    "    sentence_num = 0\n",
    "\n",
    "    ww = []\n",
    "    for value in weight.values():\n",
    "        ww.append(value)\n",
    "\n",
    "    for line in note:\n",
    "        line = line.rstrip('\\n').rsplit(\",\")\n",
    "        words = line[2].rsplit(\" \")\n",
    "        patient_id = line[0]\n",
    "        challenge = line[1]\n",
    "\n",
    "        indexed_words = []\n",
    "        for word in words:\n",
    "            index = words.index(word)\n",
    "            char_before = words[:index]\n",
    "            char_before = sum(len(i) for i in char_before) + len(char_before)\n",
    "            indexed_word = word + \"_\" + str(index) + \"_\" + str(char_before)\n",
    "            indexed_words.append(indexed_word)\n",
    "\n",
    "        num_2replace = round((percentage * 0.01) * len(words))\n",
    "\n",
    "        words_2replace = seed1.choice(indexed_words, size=num_2replace, replace=False)\n",
    "        replacement_words = seed2.choices(vocab, k=num_2replace, weights=ww)\n",
    "\n",
    "        for count, value in enumerate(words_2replace):\n",
    "            old_word = value.rsplit(\"_\")[0]\n",
    "            index = int(value.rsplit(\"_\")[1])\n",
    "            char_before = value.rsplit(\"_\")[2]\n",
    "            new_word = replacement_words[count]\n",
    "            words[index] = new_word\n",
    "            char_after_old = int(char_before) + len(old_word) + 1\n",
    "            old_word_char = str(char_before) + \":\" + str(char_after_old)\n",
    "            char_after_new = int(char_before) + len(new_word) + 1\n",
    "            new_word_char = str(char_before) + \":\" + str(char_after_new)\n",
    "            word_metadata = str(patient_id) + \",\" + str(index) + \",\" + str(old_word_char) + \",\" + str(new_word_char) + \",\" + str(sentence_num) + \",\" + str(old_word)+ \",\" + str(new_word)\n",
    "            metadata.append(word_metadata)\n",
    "\n",
    "        words = \" \".join(words)\n",
    "        new_line = str(patient_id + ',' + challenge + ',' + words)\n",
    "        new_note.append(new_line)\n",
    "\n",
    "        sentence_num += 1\n",
    "\n",
    "    return new_note, metadata\n",
    "\n",
    "new_note, metadata = replace_words(sample_note, 50, list(vocab), weights)"
   ],
   "metadata": {
    "collapsed": false,
    "pycharm": {
     "name": "#%%\n"
    }
   }
  },
  {
   "cell_type": "code",
   "execution_count": null,
   "outputs": [],
   "source": [
    "new_note, metadata = replace_words(sample_note, 50, list(vocab), weights)"
   ],
   "metadata": {
    "collapsed": false,
    "pycharm": {
     "name": "#%%\n",
     "is_executing": true
    }
   }
  },
  {
   "cell_type": "code",
   "execution_count": 250,
   "outputs": [],
   "source": [
    "def add_sentences(note, add_num, s_dictionary):\n",
    "    meta_data = [] # \"Note #, OG Sentence Count, New Sentence Count, OG Note # of New Sentence, Index of New Sentence in OG Note\"\n",
    "    og_sentence_count = len(note)\n",
    "    new_sentence_count = og_sentence_count\n",
    "\n",
    "    line = note[0].rstrip('\\n').rsplit(\",\")\n",
    "    patient_id = line[0]\n",
    "    challenge = line[1]\n",
    "\n",
    "    keys = seed2.choices(list(s_dictionary.keys()), k=add_num)\n",
    "    for key in keys:\n",
    "        sentence = seed2.choices(list(s_dictionary[key]), k=1)\n",
    "        note.append(patient_id + \",\" + challenge + \",\" + sentence[0])\n",
    "        og_note_id = key.rsplit(\",\")[0]\n",
    "        new_sentence_count += 1\n",
    "        index = list(s_dictionary[key]).index(sentence[0])\n",
    "        meta_data.append(str(patient_id) + \",\" + str(og_sentence_count) + \",\" + str(new_sentence_count) + \",\" + str(og_note_id) + \",\" + str(index))\n",
    "    return note, meta_data"
   ],
   "metadata": {
    "collapsed": false,
    "pycharm": {
     "name": "#%%\n"
    }
   }
  },
  {
   "cell_type": "code",
   "execution_count": null,
   "outputs": [],
   "source": [
    "newnote, meta_data = add_sentences(sample_note, 3, sentences)"
   ],
   "metadata": {
    "collapsed": false,
    "pycharm": {
     "name": "#%%\n",
     "is_executing": true
    }
   }
  },
  {
   "cell_type": "code",
   "execution_count": 231,
   "outputs": [],
   "source": [
    "def repeat_notes(file_input, num_S2add, percent_W2replace):\n",
    "    with file_input as file:\n",
    "        lines = filter(None, (line.rstrip() for line in file))\n",
    "        all_new_notes = []\n",
    "        current_note = []\n",
    "        last_id = ''\n",
    "        word_metadata = []\n",
    "        sentence_metadata = []\n",
    "        for line in lines:\n",
    "            line_sep = str(line).rstrip('\\n').rsplit(\",\")\n",
    "            current_id = line_sep[0]\n",
    "            new_id = current_id + \"_1\"\n",
    "            new_line = new_id + \",\" + line_sep[1] + \",\" + line_sep[2]\n",
    "            if current_id != last_id:\n",
    "                if len(current_note) > 0:\n",
    "                    #print(current_note[-4:])\n",
    "                    note_newwords, md_words = replace_words(current_note, percent_W2replace, list(vocab), weights)\n",
    "                    word_metadata.append(md_words)\n",
    "                    #print(note_newwords[-4:])\n",
    "                    note_newsents, md_sent = add_sentences(note_newwords, num_S2add, sentences)\n",
    "                    sentence_metadata.append(md_sent)\n",
    "                    #print(note_newsents[-4:])\n",
    "                    all_new_notes.append(note_newsents)\n",
    "                last_id = current_id\n",
    "                current_note = [new_line]\n",
    "            else:\n",
    "                current_note.append(new_line)\n",
    "\n",
    "        note_newwords, md_words = replace_words(current_note, percent_W2replace, list(vocab), weights)\n",
    "        word_metadata.append(md_words)\n",
    "        note_newsents, md_sent = add_sentences(note_newwords, num_S2add, sentences)\n",
    "        sentence_metadata.append(md_sent)\n",
    "        all_new_notes.append(note_newsents)\n",
    "\n",
    "    return all_new_notes, word_metadata, sentence_metadata"
   ],
   "metadata": {
    "collapsed": false,
    "pycharm": {
     "name": "#%%\n"
    }
   }
  },
  {
   "cell_type": "code",
   "execution_count": 253,
   "outputs": [],
   "source": [
    "file_name = '/Users/alissavalentine/Charney rotation/project code/input/train_sentences_copy_long.txt'\n",
    "train_file_2 = open(file_name)\n",
    "new_notes, md_word, md_sentence = repeat_notes(train_file_2, 3, 50)"
   ],
   "metadata": {
    "collapsed": false,
    "pycharm": {
     "name": "#%%\n"
    }
   }
  },
  {
   "cell_type": "code",
   "execution_count": null,
   "outputs": [],
   "source": [
    "print(md_sentence)\n",
    "print(md_word)"
   ],
   "metadata": {
    "collapsed": false,
    "pycharm": {
     "name": "#%%\n",
     "is_executing": true
    }
   }
  },
  {
   "cell_type": "code",
   "execution_count": 202,
   "outputs": [],
   "source": [
    "import os\n",
    "os.chdir(\"/Users/alissavalentine/Charney rotation/project code/output\")\n"
   ],
   "metadata": {
    "collapsed": false,
    "pycharm": {
     "name": "#%%\n"
    }
   }
  },
  {
   "cell_type": "code",
   "execution_count": 203,
   "outputs": [],
   "source": [
    "synthetic_file = open(\"synthetic_notes.txt\", \"w\")\n",
    "with synthetic_file as file:\n",
    "    for note in new_notes:\n",
    "        for line in note:\n",
    "            file.writelines(line)\n",
    "            file.writelines(\"\\n\")\n",
    "synthetic_file.close()"
   ],
   "metadata": {
    "collapsed": false,
    "pycharm": {
     "name": "#%%\n"
    }
   }
  },
  {
   "cell_type": "code",
   "execution_count": 204,
   "outputs": [],
   "source": [
    "word_md_file = open(\"word_metadata.txt\", \"w\")\n",
    "with word_md_file as file:\n",
    "    file.writelines(\"Note #, Word #, Sentence #, Old Word, New Word\\n\")\n",
    "    for note_changes in md_word:\n",
    "        for line in note_changes:\n",
    "            file.writelines(str(line))\n",
    "            file.writelines(\"\\n\")\n",
    "word_md_file.close()"
   ],
   "metadata": {
    "collapsed": false,
    "pycharm": {
     "name": "#%%\n"
    }
   }
  },
  {
   "cell_type": "code",
   "execution_count": 205,
   "outputs": [],
   "source": [
    "sentence_md_file = open(\"sentence_metadata.txt\", \"w\")\n",
    "with sentence_md_file as file:\n",
    "    file.writelines(\"Note #, OG Sentence Count, New Sentence Count, OG Note # of New Sentence, Index of New Sentence in OG Note\\n\")\n",
    "    for note_changes in md_sentence:\n",
    "        for line in note_changes:\n",
    "            file.writelines(str(line))\n",
    "            file.writelines(\"\\n\")\n",
    "sentence_md_file.close()"
   ],
   "metadata": {
    "collapsed": false,
    "pycharm": {
     "name": "#%%\n"
    }
   }
  },
  {
   "cell_type": "code",
   "execution_count": null,
   "outputs": [],
   "source": [],
   "metadata": {
    "collapsed": false,
    "pycharm": {
     "name": "#%%\n"
    }
   }
  }
 ],
 "metadata": {
  "kernelspec": {
   "display_name": "Python 3",
   "language": "python",
   "name": "python3"
  },
  "language_info": {
   "codemirror_mode": {
    "name": "ipython",
    "version": 2
   },
   "file_extension": ".py",
   "mimetype": "text/x-python",
   "name": "python",
   "nbconvert_exporter": "python",
   "pygments_lexer": "ipython2",
   "version": "2.7.6"
  }
 },
 "nbformat": 4,
 "nbformat_minor": 0
}